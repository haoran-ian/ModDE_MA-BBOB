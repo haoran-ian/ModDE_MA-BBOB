{
 "cells": [
  {
   "cell_type": "code",
   "execution_count": null,
   "metadata": {},
   "outputs": [],
   "source": [
    "import numpy as np\n",
    "\n",
    "\n",
    "did = 5\n",
    "xopts = np.loadtxt(\"data/xopts.txt\")\n",
    "xopts_did = xopts[did*50-50:did*50, :]\n",
    "xopts_did.shape\n",
    "for opt in xopts_did:\n",
    "    output = \"\"\n",
    "    for x in opt:\n",
    "        if x <= 0.01:\n",
    "            marker = \"0\"\n",
    "        elif x >= 0.99:\n",
    "            marker = \"1\"\n",
    "        else:\n",
    "            marker = \"-\"\n",
    "        output += marker + \" \"\n",
    "    print(output)"
   ]
  }
 ],
 "metadata": {
  "kernelspec": {
   "display_name": "exp",
   "language": "python",
   "name": "python3"
  },
  "language_info": {
   "codemirror_mode": {
    "name": "ipython",
    "version": 3
   },
   "file_extension": ".py",
   "mimetype": "text/x-python",
   "name": "python",
   "nbconvert_exporter": "python",
   "pygments_lexer": "ipython3",
   "version": "3.11.5"
  }
 },
 "nbformat": 4,
 "nbformat_minor": 2
}
